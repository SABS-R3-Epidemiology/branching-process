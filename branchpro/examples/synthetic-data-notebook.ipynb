{
 "metadata": {
  "language_info": {
   "codemirror_mode": {
    "name": "ipython",
    "version": 3
   },
   "file_extension": ".py",
   "mimetype": "text/x-python",
   "name": "python",
   "nbconvert_exporter": "python",
   "pygments_lexer": "ipython3",
   "version": "3.8.5-final"
  },
  "orig_nbformat": 2,
  "kernelspec": {
   "name": "python3",
   "display_name": "Python 3.8.5 64-bit ('base': conda)",
   "metadata": {
    "interpreter": {
     "hash": "34783718b96b00301f03fbc7cc717743f1d89135027a4004f1427440c34696d4"
    }
   }
  }
 },
 "nbformat": 4,
 "nbformat_minor": 2,
 "cells": [
  {
   "source": [
    "# Trial Run for the BranchPro module using Synthetic Data\n",
    "\n",
    "In order to assess how well the functionalities implemented in the ``branchpro`` module cope with realistic data, we will first generate some artificial incidence cases using a reasonable instance of an R profile.\n"
   ],
   "cell_type": "markdown",
   "metadata": {}
  },
  {
   "cell_type": "code",
   "execution_count": 1,
   "metadata": {},
   "outputs": [],
   "source": [
    "# Import requirements\n",
    "import branchpro\n",
    "\n",
    "import numpy as np\n",
    "import pandas as pd\n",
    "import scipy"
   ]
  },
  {
   "source": [
    "## Set true R profile"
   ],
   "cell_type": "markdown",
   "metadata": {}
  },
  {
   "cell_type": "code",
   "execution_count": 2,
   "metadata": {},
   "outputs": [],
   "source": [
    "# Read the reproduction number values\n",
    "new_rs = [3, 2.7, 2.5, 2.4, 2.3, 2.2, 1.9, 1.8, 1.9, 1.7, 1.6, 1.3, 1.3, 1.2, 1.1, 0.9, 1, 1.1, 0.95, 0.9, 0.8, 0.7, 0.75, 0.8, 0.77, 0.73, 0.7, 0.68, 0.65, 0.67, 0.66, 0.72]\n",
    "\n",
    "# Construct vector of the times at which each of the R number changes occur\n",
    "start_times = np.arange(1, len(new_rs)+1, dtype=int)"
   ]
  },
  {
   "source": [
    "## Generate Incidence Data\n",
    "\n",
    "Using this realistically behaved reproduction numbers, we will use the forward simulation functionality to sample incidence data which we will use in the following steps to do inference and try to reconstruct the true R profile underlining the data."
   ],
   "cell_type": "markdown",
   "metadata": {}
  },
  {
   "source": [
    "# Set evaluation times and serial interval distribution\n",
    "\n",
    "We wish to obtain data for all the time points for which we know the value of the *reproduction number*. We also assume that the *serial interval* is shaped similarly to a gamma distribution, which we will in turn discretize to fit the way the *forward simulation* works."
   ],
   "cell_type": "markdown",
   "metadata": {}
  },
  {
   "cell_type": "code",
   "execution_count": 3,
   "metadata": {},
   "outputs": [],
   "source": [
    "# Take evaluation times for the forward simulation as the times corresponding to the R profile\n",
    "times = start_times\n",
    "\n",
    "# Build the serial interval w_s\n",
    "num_timepoints = len(new_rs)\n",
    "ws_mean = 2.6\n",
    "ws_var = 1.5**2\n",
    "theta = ws_var / ws_mean\n",
    "k = ws_mean / theta\n",
    " \n",
    "w_dist = scipy.stats.gamma(k, scale=theta)\n",
    "disc_w = w_dist.pdf(np.arange(num_timepoints))"
   ]
  },
  {
   "source": [
    "We assume that the imported cases are sampled from a zero-inflated poisson with given mean ($\\lambda$) and weight ($\\pi$). For this we will cosntruct first a function to sample observations from such a distribution."
   ],
   "cell_type": "markdown",
   "metadata": {}
  },
  {
   "cell_type": "code",
   "execution_count": 4,
   "metadata": {},
   "outputs": [],
   "source": [
    "# Construct a zero-inflated poisson sampler\n",
    "def zero_inf_poss_sampler(pi, mean, num_samples=1):\n",
    "    # First check if we sample from the Poisson or Dirac centred at the origin distribution\n",
    "    unif_samples = scipy.stats.uniform.rvs(size=num_samples)\n",
    "    sample = np.zeros_like(unif_samples)\n",
    "\n",
    "    for s in range(num_samples):\n",
    "        # If we fall out of the Dirac category, we sample from Poisson\n",
    "        if unif_samples[s] > pi:\n",
    "            sample[s] = scipy.stats.poisson.rvs(mean)\n",
    "    \n",
    "    return sample"
   ]
  },
  {
   "cell_type": "code",
   "execution_count": 8,
   "metadata": {},
   "outputs": [],
   "source": [
    "# Build the imported cases\n",
    "pi = 0.6\n",
    "ic_mean = 10\n",
    "imported_times = np.arange(1,(num_timepoints+1))\n",
    "\n",
    "imported_cases = zero_inf_poss_sampler(pi=pi, mean=ic_mean, num_samples=num_timepoints)"
   ]
  },
  {
   "cell_type": "code",
   "execution_count": null,
   "metadata": {},
   "outputs": [],
   "source": []
  }
 ]
}